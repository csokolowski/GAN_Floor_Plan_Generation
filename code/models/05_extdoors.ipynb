{
 "cells": [
  {
   "cell_type": "markdown",
   "id": "0ae617e8-182a-4151-b217-85ccd795c96d",
   "metadata": {},
   "source": [
    "# Model Five: Exterior Doors Model Dataset"
   ]
  },
  {
   "cell_type": "markdown",
   "id": "6ead2c13-fe7c-4315-a63f-67aa00f042fb",
   "metadata": {},
   "source": [
    "*Note: Code below was run in a Google Colab notebook. Functions and workflow taken and adapted from https://www.tensorflow.org/tutorials/generative/pix2pix.*"
   ]
  },
  {
   "cell_type": "markdown",
   "id": "6b33a890-8784-401d-9d11-690a93c67fec",
   "metadata": {},
   "source": [
    "Exterior doors added to initial input to see if model is better guided with a little more initial data."
   ]
  },
  {
   "cell_type": "markdown",
   "id": "7be53466-4fd0-469a-a81a-632c91479d46",
   "metadata": {},
   "source": [
    "### Imports"
   ]
  },
  {
   "cell_type": "code",
   "execution_count": null,
   "id": "d40bbfc3-634c-424b-a8c3-01abc9185902",
   "metadata": {},
   "outputs": [],
   "source": [
    "import tensorflow as tf\n",
    "\n",
    "import os\n",
    "import pathlib\n",
    "import time\n",
    "import datetime\n",
    "\n",
    "from matplotlib import pyplot as plt\n",
    "from IPython import display"
   ]
  },
  {
   "cell_type": "markdown",
   "id": "2176a584-097c-476e-bfb0-bf962151851f",
   "metadata": {},
   "source": [
    "### Colab Info"
   ]
  },
  {
   "cell_type": "code",
   "execution_count": null,
   "id": "1eb8c2f8-72a6-41e1-a370-79784e619208",
   "metadata": {},
   "outputs": [],
   "source": [
    "gpu_info = !nvidia-smi\n",
    "gpu_info = '\\n'.join(gpu_info)\n",
    "if gpu_info.find('failed') >= 0:\n",
    "  print('Not connected to a GPU')\n",
    "else:\n",
    "  print(gpu_info)"
   ]
  },
  {
   "cell_type": "markdown",
   "id": "d18ef577-30a6-42e4-83a0-d79e6e37ff4d",
   "metadata": {},
   "source": [
    "Making sure I'm connected to the right GPU before running any models"
   ]
  },
  {
   "cell_type": "code",
   "execution_count": null,
   "id": "809a2c12-de2d-42ea-8fdf-6037a5564068",
   "metadata": {},
   "outputs": [],
   "source": [
    "from google.colab import drive\n",
    "drive.mount('/content/drive')"
   ]
  },
  {
   "cell_type": "code",
   "execution_count": 4,
   "id": "ab02a81d-5761-436d-b61c-d849d2217a3a",
   "metadata": {},
   "outputs": [],
   "source": [
    "model_dir = '/content/drive/MyDrive/input_extdoors/'"
   ]
  },
  {
   "cell_type": "markdown",
   "id": "11cab6b2-d814-444b-a47b-90e4ad8071a2",
   "metadata": {},
   "source": [
    "Saving to the virtual drive seems to cause weird upload issues so saving and uploading all data to and from my Google Drive"
   ]
  },
  {
   "cell_type": "markdown",
   "id": "7dde8ba5-000b-4960-9d7c-f18f677e866c",
   "metadata": {},
   "source": [
    "## Load in the Dataset"
   ]
  },
  {
   "cell_type": "code",
   "execution_count": null,
   "id": "de6fe700-e4b4-48d6-b2bd-2b15ea96dc84",
   "metadata": {},
   "outputs": [],
   "source": [
    "def load(image_file):\n",
    "  # Read and decode an image file to a uint8 tensor\n",
    "  image = tf.io.read_file(image_file)\n",
    "  image = tf.io.decode_jpeg(image)\n",
    "\n",
    "  # Split each image tensor into two tensors:\n",
    "  # - one with a real building facade image\n",
    "  # - one with an architecture label image \n",
    "  w = tf.shape(image)[1]\n",
    "  w = w // 2\n",
    "  input_image = image[:, w:, :]\n",
    "  real_image = image[:, :w, :]\n",
    "\n",
    "  # Convert both images to float32 tensors\n",
    "  input_image = tf.cast(input_image, tf.float32)\n",
    "  real_image = tf.cast(real_image, tf.float32)\n",
    "\n",
    "  return input_image, real_image"
   ]
  },
  {
   "cell_type": "markdown",
   "id": "dfa2d537-53b3-4527-a224-eb199b050a06",
   "metadata": {},
   "source": [
    "Returns the input and output images from the dataset"
   ]
  },
  {
   "cell_type": "code",
   "execution_count": null,
   "id": "88cebc2c-db28-4bec-9c27-2da1a62a25a5",
   "metadata": {},
   "outputs": [],
   "source": [
    "inp, re = load(f'{model_dir}test/101.jpg')\n",
    "\n",
    "plt.figure()\n",
    "plt.imshow(inp / 255.0)\n",
    "plt.figure()\n",
    "plt.imshow(re / 255.0);"
   ]
  },
  {
   "cell_type": "markdown",
   "id": "d313f07e-62f7-4c0c-b252-a0c11f88e3cf",
   "metadata": {},
   "source": [
    "Testing the function on one image"
   ]
  },
  {
   "cell_type": "code",
   "execution_count": null,
   "id": "1a72f032-894b-4c45-9630-ebfae65c88aa",
   "metadata": {},
   "outputs": [],
   "source": [
    "# The facade training set consist of 159 images\n",
    "BUFFER_SIZE = 159\n",
    "# The batch size of 1 produced better results for the U-Net in the original pix2pix experiment\n",
    "BATCH_SIZE = 1\n",
    "# Each image is 256x256 in size\n",
    "IMG_WIDTH = 256\n",
    "IMG_HEIGHT = 256"
   ]
  },
  {
   "cell_type": "code",
   "execution_count": null,
   "id": "073cc651-62e0-4cdf-b43e-a5ac08a788da",
   "metadata": {},
   "outputs": [],
   "source": [
    "def normalize(input_image, real_image):\n",
    "  input_image = (input_image / 127.5) - 1\n",
    "  real_image = (real_image / 127.5) - 1\n",
    "\n",
    "  return input_image, real_image"
   ]
  },
  {
   "cell_type": "markdown",
   "id": "a7973de6-e56e-40a9-85ac-6c7492618e40",
   "metadata": {},
   "source": [
    "Normalizing image data to [-1, 1] range as suggested by the original pix2pix paper"
   ]
  },
  {
   "cell_type": "code",
   "execution_count": null,
   "id": "ec8f9160-76f0-4fff-8288-44e3320b7d10",
   "metadata": {},
   "outputs": [],
   "source": [
    "def load_image_train(image_file):\n",
    "  input_image, real_image = load(image_file)\n",
    "  input_image, real_image = normalize(input_image, real_image)\n",
    "\n",
    "  return input_image, real_image"
   ]
  },
  {
   "cell_type": "code",
   "execution_count": null,
   "id": "161a408f-ad41-48ec-9d2e-5352b87649b5",
   "metadata": {},
   "outputs": [],
   "source": [
    "def load_image_test(image_file):\n",
    "  input_image, real_image = load(image_file)\n",
    "  input_image, real_image = normalize(input_image, real_image)\n",
    "\n",
    "  return input_image, real_image"
   ]
  },
  {
   "cell_type": "markdown",
   "id": "3f49ff5d-62a2-465e-81b1-88a91b390be6",
   "metadata": {},
   "source": [
    "Functions to load in train and test data"
   ]
  },
  {
   "cell_type": "code",
   "execution_count": null,
   "id": "0044151a-3045-4dd2-861a-801cda0fa9ee",
   "metadata": {},
   "outputs": [],
   "source": [
    "train_dataset = tf.data.Dataset.list_files(f'{model_dir}train/*.jpg')\n",
    "train_dataset = train_dataset.map(load_image_train,\n",
    "                                  num_parallel_calls=tf.data.AUTOTUNE)\n",
    "train_dataset = train_dataset.shuffle(BUFFER_SIZE)\n",
    "train_dataset = train_dataset.batch(BATCH_SIZE)"
   ]
  },
  {
   "cell_type": "code",
   "execution_count": null,
   "id": "81ca6049-ed36-49b8-8138-89bebfe77e00",
   "metadata": {},
   "outputs": [],
   "source": [
    "test_dataset = tf.data.Dataset.list_files(f'{model_dir}test/*.jpg')\n",
    "test_dataset = test_dataset.map(load_image_test)\n",
    "test_dataset = test_dataset.batch(BATCH_SIZE)"
   ]
  },
  {
   "cell_type": "markdown",
   "id": "1a1bf28d-1d94-4cba-8f06-8eb9dc4f1c2f",
   "metadata": {},
   "source": [
    "Train and test loaded"
   ]
  },
  {
   "cell_type": "markdown",
   "id": "e6f04476-839f-464d-b4fd-9b56eb4e1658",
   "metadata": {},
   "source": [
    "# Generator"
   ]
  },
  {
   "cell_type": "markdown",
   "id": "d5457cf6-7ea7-460e-b7d8-862d555c8f7a",
   "metadata": {},
   "source": [
    "Generator is a modified [U-Net](https://arxiv.org/abs/1505.04597) consisting of downsampling then upsampling the analysis from the discriminator."
   ]
  },
  {
   "cell_type": "markdown",
   "id": "8136d571-c652-4a1d-8665-66bc1dd1cb4b",
   "metadata": {},
   "source": [
    "## Downsampler"
   ]
  },
  {
   "cell_type": "code",
   "execution_count": null,
   "id": "1bed5360-d401-432b-a75f-531a7a98831d",
   "metadata": {},
   "outputs": [],
   "source": [
    "OUTPUT_CHANNELS = 3"
   ]
  },
  {
   "cell_type": "code",
   "execution_count": null,
   "id": "3bb0ac3d-1e9c-4f75-a326-36fe633af7ad",
   "metadata": {},
   "outputs": [],
   "source": [
    "def downsample(filters, size, apply_batchnorm=True):\n",
    "  initializer = tf.random_normal_initializer(0., 0.02)\n",
    "\n",
    "  result = tf.keras.Sequential()\n",
    "  result.add(\n",
    "      tf.keras.layers.Conv2D(filters, size, strides=2, padding='same',\n",
    "                             kernel_initializer=initializer, use_bias=False))\n",
    "\n",
    "  if apply_batchnorm:\n",
    "    result.add(tf.keras.layers.BatchNormalization())\n",
    "\n",
    "  result.add(tf.keras.layers.LeakyReLU())\n",
    "\n",
    "  return result"
   ]
  },
  {
   "cell_type": "code",
   "execution_count": null,
   "id": "9c8fef1e-ff28-4606-a3dd-43a59bd7381b",
   "metadata": {},
   "outputs": [],
   "source": [
    "down_model = downsample(3, 4)\n",
    "down_result = down_model(tf.expand_dims(inp, 0))\n",
    "print (down_result.shape)"
   ]
  },
  {
   "cell_type": "markdown",
   "id": "9d442adf-9e1e-4b6d-b024-7f96b67fac33",
   "metadata": {},
   "source": [
    "## Upsampler"
   ]
  },
  {
   "cell_type": "code",
   "execution_count": null,
   "id": "b5f96ed1-1154-4a0a-812e-f3ad27c7b99b",
   "metadata": {},
   "outputs": [],
   "source": [
    "def upsample(filters, size, apply_dropout=False):\n",
    "  initializer = tf.random_normal_initializer(0., 0.02)\n",
    "\n",
    "  result = tf.keras.Sequential()\n",
    "  result.add(\n",
    "    tf.keras.layers.Conv2DTranspose(filters, size, strides=2,\n",
    "                                    padding='same',\n",
    "                                    kernel_initializer=initializer,\n",
    "                                    use_bias=False))\n",
    "\n",
    "  result.add(tf.keras.layers.BatchNormalization())\n",
    "\n",
    "  if apply_dropout:\n",
    "      result.add(tf.keras.layers.Dropout(0.5))\n",
    "\n",
    "  result.add(tf.keras.layers.ReLU())\n",
    "\n",
    "  return result"
   ]
  },
  {
   "cell_type": "code",
   "execution_count": null,
   "id": "f2f814bb-65e8-46c2-b229-8e5e782b0555",
   "metadata": {},
   "outputs": [],
   "source": [
    "up_model = upsample(3, 4)\n",
    "up_result = up_model(down_result)\n",
    "print (up_result.shape"
   ]
  },
  {
   "cell_type": "markdown",
   "id": "94347baf-d6cc-4019-9f63-7eb39a8d7992",
   "metadata": {},
   "source": [
    "## Generator"
   ]
  },
  {
   "cell_type": "code",
   "execution_count": null,
   "id": "6658456a-c583-47bb-9172-5d07b2ce8939",
   "metadata": {},
   "outputs": [],
   "source": [
    "def Generator():\n",
    "  inputs = tf.keras.layers.Input(shape=[256, 256, 3])\n",
    "\n",
    "  down_stack = [\n",
    "    downsample(64, 4, apply_batchnorm=False),  # (batch_size, 128, 128, 64)\n",
    "    downsample(128, 4),  # (batch_size, 64, 64, 128)\n",
    "    downsample(256, 4),  # (batch_size, 32, 32, 256)\n",
    "    downsample(512, 4),  # (batch_size, 16, 16, 512)\n",
    "    downsample(512, 4),  # (batch_size, 8, 8, 512)\n",
    "    downsample(512, 4),  # (batch_size, 4, 4, 512)\n",
    "    downsample(512, 4),  # (batch_size, 2, 2, 512)\n",
    "    downsample(512, 4),  # (batch_size, 1, 1, 512)\n",
    "  ]\n",
    "\n",
    "  up_stack = [\n",
    "    upsample(512, 4, apply_dropout=True),  # (batch_size, 2, 2, 1024)\n",
    "    upsample(512, 4, apply_dropout=True),  # (batch_size, 4, 4, 1024)\n",
    "    upsample(512, 4, apply_dropout=True),  # (batch_size, 8, 8, 1024)\n",
    "    upsample(512, 4),  # (batch_size, 16, 16, 1024)\n",
    "    upsample(256, 4),  # (batch_size, 32, 32, 512)\n",
    "    upsample(128, 4),  # (batch_size, 64, 64, 256)\n",
    "    upsample(64, 4),  # (batch_size, 128, 128, 128)\n",
    "  ]\n",
    "\n",
    "  initializer = tf.random_normal_initializer(0., 0.02)\n",
    "  last = tf.keras.layers.Conv2DTranspose(OUTPUT_CHANNELS, 4,\n",
    "                                         strides=2,\n",
    "                                         padding='same',\n",
    "                                         kernel_initializer=initializer,\n",
    "                                         activation='tanh')  # (batch_size, 256, 256, 3)\n",
    "\n",
    "  x = inputs\n",
    "\n",
    "  # Downsampling through the model\n",
    "  skips = []\n",
    "  for down in down_stack:\n",
    "    x = down(x)\n",
    "    skips.append(x)\n",
    "\n",
    "  skips = reversed(skips[:-1])\n",
    "\n",
    "  # Upsampling and establishing the skip connections\n",
    "  for up, skip in zip(up_stack, skips):\n",
    "    x = up(x)\n",
    "    x = tf.keras.layers.Concatenate()([x, skip])\n",
    "\n",
    "  x = last(x)\n",
    "\n",
    "  return tf.keras.Model(inputs=inputs, outputs=x)"
   ]
  },
  {
   "cell_type": "markdown",
   "id": "aba1b8c9-ea60-447e-9139-1c8d34faf6ca",
   "metadata": {},
   "source": [
    "Generator consists of nested layers defined in previous cells"
   ]
  },
  {
   "cell_type": "code",
   "execution_count": null,
   "id": "654b0b29-e23c-4f7d-800d-5095a4e006cd",
   "metadata": {},
   "outputs": [],
   "source": [
    "generator = Generator()\n",
    "tf.keras.utils.plot_model(generator, show_shapes=True, dpi=64)"
   ]
  },
  {
   "cell_type": "markdown",
   "id": "196238ab-ff8e-41f4-89c7-bb3a2e45db71",
   "metadata": {},
   "source": [
    "Visualization of generator model"
   ]
  },
  {
   "cell_type": "code",
   "execution_count": null,
   "id": "22d61c1f-b8a8-48b4-b2cb-072a63a97ec8",
   "metadata": {},
   "outputs": [],
   "source": [
    "gen_output = generator(inp[tf.newaxis, ...], training=False)\n",
    "plt.imshow(gen_output[0, ...])"
   ]
  },
  {
   "cell_type": "markdown",
   "id": "77aadffd-aa0a-4df6-9792-cc47a094614f",
   "metadata": {},
   "source": [
    "Generator test"
   ]
  },
  {
   "cell_type": "markdown",
   "id": "5b559f43-d7d4-4f6e-959b-0b9e83247876",
   "metadata": {},
   "source": [
    "## Generator Loss"
   ]
  },
  {
   "cell_type": "markdown",
   "id": "75d63dbf-f596-4142-8b07-fa19c9b2c04d",
   "metadata": {},
   "source": [
    "The generator loss is one of the metrics to judge how the modeling is going, which is the sigmoid cross-entropy loss of the generated data and an array of ones. Total generator loss is **gan_loss + LAMBADA * l1_loss**, where LAMBDA = 100."
   ]
  },
  {
   "cell_type": "code",
   "execution_count": null,
   "id": "66fb41b4-89b9-465a-bc9d-07d233f1f480",
   "metadata": {},
   "outputs": [],
   "source": [
    "LAMBDA = 100\n",
    "\n",
    "loss_object = tf.keras.losses.BinaryCrossentropy(from_logits=True)\n",
    "\n",
    "def generator_loss(disc_generated_output, gen_output, target):\n",
    "  gan_loss = loss_object(tf.ones_like(disc_generated_output), disc_generated_output)\n",
    "\n",
    "  # Mean absolute error\n",
    "  l1_loss = tf.reduce_mean(tf.abs(target - gen_output))\n",
    "\n",
    "  total_gen_loss = gan_loss + (LAMBDA * l1_loss)\n",
    "\n",
    "  return total_gen_loss, gan_loss, l1_loss"
   ]
  },
  {
   "cell_type": "markdown",
   "id": "5b057de1-2f70-4656-a0e6-3f1c6a21dc0a",
   "metadata": {},
   "source": [
    "# Discriminator"
   ]
  },
  {
   "cell_type": "markdown",
   "id": "34e49090-14b1-4588-bcd8-948b09b1296a",
   "metadata": {},
   "source": [
    "The discriminator is a convolutional PatchGAN classifier trying to discern the training data from the generator data. Both pieces of data are concatenated and then ran through convolution -> batch normalization -> leaky ReLU layers."
   ]
  },
  {
   "cell_type": "code",
   "execution_count": null,
   "id": "5e32f3f8-0968-4ee6-b50d-ade2bc51c3a0",
   "metadata": {},
   "outputs": [],
   "source": [
    "def Discriminator():\n",
    "  initializer = tf.random_normal_initializer(0., 0.02)\n",
    "\n",
    "  inp = tf.keras.layers.Input(shape=[256, 256, 3], name='input_image')\n",
    "  tar = tf.keras.layers.Input(shape=[256, 256, 3], name='target_image')\n",
    "\n",
    "  x = tf.keras.layers.concatenate([inp, tar])  # (batch_size, 256, 256, channels*2)\n",
    "\n",
    "  down1 = downsample(64, 4, False)(x)  # (batch_size, 128, 128, 64)\n",
    "  down2 = downsample(128, 4)(down1)  # (batch_size, 64, 64, 128)\n",
    "  down3 = downsample(256, 4)(down2)  # (batch_size, 32, 32, 256)\n",
    "\n",
    "  zero_pad1 = tf.keras.layers.ZeroPadding2D()(down3)  # (batch_size, 34, 34, 256)\n",
    "  conv = tf.keras.layers.Conv2D(512, 4, strides=1,\n",
    "                                kernel_initializer=initializer,\n",
    "                                use_bias=False)(zero_pad1)  # (batch_size, 31, 31, 512)\n",
    "\n",
    "  batchnorm1 = tf.keras.layers.BatchNormalization()(conv)\n",
    "\n",
    "  leaky_relu = tf.keras.layers.LeakyReLU()(batchnorm1)\n",
    "\n",
    "  zero_pad2 = tf.keras.layers.ZeroPadding2D()(leaky_relu)  # (batch_size, 33, 33, 512)\n",
    "\n",
    "  last = tf.keras.layers.Conv2D(1, 4, strides=1,\n",
    "                                kernel_initializer=initializer)(zero_pad2)  # (batch_size, 30, 30, 1)\n",
    "\n",
    "  return tf.keras.Model(inputs=[inp, tar], outputs=last)"
   ]
  },
  {
   "cell_type": "code",
   "execution_count": null,
   "id": "09e054fc-0df3-4d7c-8257-15534786198a",
   "metadata": {},
   "outputs": [],
   "source": [
    "discriminator = Discriminator()\n",
    "tf.keras.utils.plot_model(discriminator, show_shapes=True, dpi=64)"
   ]
  },
  {
   "cell_type": "markdown",
   "id": "b3add5b8-020e-444c-9051-4fa11a1dcea7",
   "metadata": {},
   "source": [
    "Visualization of discriminator model"
   ]
  },
  {
   "cell_type": "code",
   "execution_count": null,
   "id": "2276dad3-9936-4995-b007-fd717b6311a7",
   "metadata": {},
   "outputs": [],
   "source": [
    "disc_out = discriminator([inp[tf.newaxis, ...], gen_output], training=False)\n",
    "plt.imshow(disc_out[0, ..., -1], vmin=-20, vmax=20, cmap='RdBu_r')\n",
    "plt.colorbar()"
   ]
  },
  {
   "cell_type": "markdown",
   "id": "5980437a-6ff2-4442-8412-01ba5b2dd8e9",
   "metadata": {},
   "source": [
    "Discriminator test"
   ]
  },
  {
   "cell_type": "markdown",
   "id": "7c1b7150-3223-48db-8760-767a8a323417",
   "metadata": {},
   "source": [
    "## Discriminator Loss"
   ]
  },
  {
   "cell_type": "markdown",
   "id": "5403d55f-0f88-4d87-b956-6ae7560cce77",
   "metadata": {},
   "source": [
    "The discriminator loss is the other metrics to judge how the modeling is going. real_loss is the sigmoid cross-entropy loss of the training data and an array of ones. generated_loss is the sigmoid cross-entropy loss of the generated data and an array of zeros.Total discriminator is **real_loss + generated_loss**"
   ]
  },
  {
   "cell_type": "code",
   "execution_count": null,
   "id": "7a17e437-27a0-4c27-8218-b2bb04756679",
   "metadata": {},
   "outputs": [],
   "source": [
    "def discriminator_loss(disc_real_output, disc_generated_output):\n",
    "  real_loss = loss_object(tf.ones_like(disc_real_output), disc_real_output)\n",
    "\n",
    "  generated_loss = loss_object(tf.zeros_like(disc_generated_output), disc_generated_output)\n",
    "\n",
    "  total_disc_loss = real_loss + generated_loss\n",
    "\n",
    "  return total_disc_loss"
   ]
  },
  {
   "cell_type": "code",
   "execution_count": null,
   "id": "f0f1b11a-5841-455d-bcaf-66573d363dcd",
   "metadata": {},
   "outputs": [],
   "source": [
    "generator_optimizer = tf.keras.optimizers.Adam(2e-4, beta_1=0.5)\n",
    "discriminator_optimizer = tf.keras.optimizers.Adam(2e-4, beta_1=0.5)"
   ]
  },
  {
   "cell_type": "markdown",
   "id": "5c9ce5ce-55d7-481d-9c71-d5dca40082ef",
   "metadata": {},
   "source": [
    "Generator and discriminator optimizers"
   ]
  },
  {
   "cell_type": "code",
   "execution_count": null,
   "id": "c8f6a785-bdb6-4367-b743-e3d6c6daf5e3",
   "metadata": {},
   "outputs": [],
   "source": [
    "checkpoint_dir = f'{model_dir}training_checkpoints'\n",
    "checkpoint_prefix = os.path.join(checkpoint_dir, \"ckpt\")\n",
    "checkpoint = tf.train.Checkpoint(generator_optimizer=generator_optimizer,\n",
    "                                 discriminator_optimizer=discriminator_optimizer,\n",
    "                                 generator=generator,\n",
    "                                 discriminator=discriminator)"
   ]
  },
  {
   "cell_type": "markdown",
   "id": "61b69c8a-cca5-4b5f-805e-630b1ac4b13f",
   "metadata": {},
   "source": [
    "Creates checkpoints we can return the model to"
   ]
  },
  {
   "cell_type": "markdown",
   "id": "8bebb2b6-4550-42d8-aadb-563930fe7925",
   "metadata": {},
   "source": [
    "## Generate Images"
   ]
  },
  {
   "cell_type": "markdown",
   "id": "2d6d97d8-1810-4640-b1c1-e11de68ca85c",
   "metadata": {},
   "source": [
    "Images go from to test set to generator. The generator then transforms the training data into the output data. Finally, predictions are plotted."
   ]
  },
  {
   "cell_type": "code",
   "execution_count": null,
   "id": "947ccf42-80d2-4e67-bae5-ff1de3a7b940",
   "metadata": {},
   "outputs": [],
   "source": [
    "def generate_images(model, test_input, tar):\n",
    "  prediction = model(test_input, training=True)\n",
    "  plt.figure(figsize=(15, 15))\n",
    "\n",
    "  display_list = [test_input[0], tar[0], prediction[0]]\n",
    "  title = ['Input Image', 'Ground Truth', 'Predicted Image']\n",
    "\n",
    "\n",
    "  for i in range(3):\n",
    "    plt.subplot(1, 3, i+1)\n",
    "    plt.title(title[i])\n",
    "    # Getting the pixel values in the [0, 1] range to plot.\n",
    "    \n",
    "    plt.imshow(display_list[i] * 0.5 + 0.5)\n",
    "    plt.axis('off')\n",
    "\n",
    "  plt.savefig(f'{model_dir}progression/{img_order}/{step//1000}.jpg')\n",
    "  plt.show()"
   ]
  },
  {
   "cell_type": "markdown",
   "id": "599eafaa-3254-4d98-8868-768e3f88a492",
   "metadata": {},
   "source": [
    "# Training"
   ]
  },
  {
   "cell_type": "markdown",
   "id": "8ed41cce-37ac-4fbd-a570-c68abb23d067",
   "metadata": {},
   "source": [
    "* Each input generates an output\n",
    "* Discriminator receives the training data and its generated image as the first input.\n",
    "* Discriminator recieves the input_image and ground_truth as the second input.\n",
    "* Generator and discriminator loss is calculated\n",
    "* Loss variables are applied to the optimizer\n",
    "* Losses logged into TensorBoard"
   ]
  },
  {
   "cell_type": "code",
   "execution_count": null,
   "id": "122e871c-bc9e-484c-9b7f-e87ebc874fba",
   "metadata": {},
   "outputs": [],
   "source": [
    "log_dir=f\"{model_dir}logs/\"\n",
    "\n",
    "summary_writer = tf.summary.create_file_writer(\n",
    "  log_dir + \"fit/\" + datetime.datetime.now().strftime(\"%Y%m%d-%H%M%S\"))"
   ]
  },
  {
   "cell_type": "code",
   "execution_count": null,
   "id": "e5a6d209-e3ef-4d53-962e-7241ba067410",
   "metadata": {},
   "outputs": [],
   "source": [
    "@tf.function\n",
    "def train_step(input_image, target, step):\n",
    "  with tf.GradientTape() as gen_tape, tf.GradientTape() as disc_tape:\n",
    "    gen_output = generator(input_image, training=True)\n",
    "\n",
    "    disc_real_output = discriminator([input_image, target], training=True)\n",
    "    disc_generated_output = discriminator([input_image, gen_output], training=True)\n",
    "\n",
    "    gen_total_loss, gen_gan_loss, gen_l1_loss = generator_loss(disc_generated_output, gen_output, target)\n",
    "    disc_loss = discriminator_loss(disc_real_output, disc_generated_output)\n",
    "\n",
    "  generator_gradients = gen_tape.gradient(gen_total_loss,\n",
    "                                          generator.trainable_variables)\n",
    "  discriminator_gradients = disc_tape.gradient(disc_loss,\n",
    "                                               discriminator.trainable_variables)\n",
    "\n",
    "  generator_optimizer.apply_gradients(zip(generator_gradients,\n",
    "                                          generator.trainable_variables))\n",
    "  discriminator_optimizer.apply_gradients(zip(discriminator_gradients,\n",
    "                                              discriminator.trainable_variables))\n",
    "\n",
    "  with summary_writer.as_default():\n",
    "    tf.summary.scalar('gen_total_loss', gen_total_loss, step=step//1000)\n",
    "    tf.summary.scalar('gen_gan_loss', gen_gan_loss, step=step//1000)\n",
    "    tf.summary.scalar('gen_l1_loss', gen_l1_loss, step=step//1000)\n",
    "    tf.summary.scalar('disc_loss', disc_loss, step=step//1000)"
   ]
  },
  {
   "cell_type": "markdown",
   "id": "4a769cdb-41fc-4bd3-86e2-1efa08446441",
   "metadata": {},
   "source": [
    "* Actual training loop set up in terms of steps rather than epochs\n",
    "* Creates and saves all testing images every 1k steps\n",
    "* Creates a checkpoint ever 5k steps"
   ]
  },
  {
   "cell_type": "code",
   "execution_count": null,
   "id": "8d494c14-f6a6-48dd-96ed-0c357385307f",
   "metadata": {},
   "outputs": [],
   "source": [
    "def fit(train_ds, test_ds, steps):\n",
    "  example_input, example_target = next(iter(test_ds.take(1)))\n",
    "  start = time.time()\n",
    "  global step\n",
    "  global img_order\n",
    "\n",
    "  for step, (input_image, target) in train_ds.repeat().take(steps).enumerate():\n",
    "    if (step) % 1000 == 0:\n",
    "      display.clear_output(wait=True)\n",
    "\n",
    "      if step != 0:\n",
    "        print(f'Time taken for 1000 steps: {time.time()-start:.2f} sec\\n')\n",
    "\n",
    "      start = time.time()\n",
    "      img_order = 1\n",
    "      \n",
    "      for inp, tar in test_dataset.take(40):\n",
    "        if not os.path.exists(f'{model_dir}progression/{img_order}'):\n",
    "          os.makedirs(f'{model_dir}progression/{img_order}')\n",
    "        generate_images(generator, inp, tar)\n",
    "        \n",
    "        img_order += 1\n",
    "\n",
    "      print(f\"Step: {step//1000}k\")\n",
    "\n",
    "    train_step(input_image, target, step)\n",
    "\n",
    "    # Training step\n",
    "    if (step+1) % 10 == 0:\n",
    "      print('.', end='', flush=True)\n",
    "\n",
    "\n",
    "    # Save (checkpoint) the model every 5k steps\n",
    "    if (step + 1) % 5000 == 0:\n",
    "      checkpoint.save(file_prefix=checkpoint_prefix)"
   ]
  },
  {
   "cell_type": "code",
   "execution_count": null,
   "id": "ddb64048-ecd0-4b1b-91d2-b2c7718b2c6a",
   "metadata": {},
   "outputs": [],
   "source": [
    "%load_ext tensorboard\n",
    "%tensorboard --logdir {log_dir}"
   ]
  },
  {
   "cell_type": "markdown",
   "id": "f33cb0f2-2419-4617-8a5f-310bdc116ad0",
   "metadata": {},
   "source": [
    "Launched TensorBoard to view metrics in real time"
   ]
  },
  {
   "cell_type": "code",
   "execution_count": null,
   "id": "a03e695b-a879-4fe2-a45d-75d386b68e4c",
   "metadata": {},
   "outputs": [],
   "source": [
    "fit(train_dataset, test_dataset, steps=125000)"
   ]
  },
  {
   "cell_type": "markdown",
   "id": "62099bc9-0f69-499e-87ae-585e6aeacfcb",
   "metadata": {},
   "source": [
    "Previous code boiled down to a single command"
   ]
  }
 ],
 "metadata": {
  "kernelspec": {
   "display_name": "Python [conda env:dsi-111]",
   "language": "python",
   "name": "conda-env-dsi-111-py"
  },
  "language_info": {
   "codemirror_mode": {
    "name": "ipython",
    "version": 3
   },
   "file_extension": ".py",
   "mimetype": "text/x-python",
   "name": "python",
   "nbconvert_exporter": "python",
   "pygments_lexer": "ipython3",
   "version": "3.8.8"
  }
 },
 "nbformat": 4,
 "nbformat_minor": 5
}
