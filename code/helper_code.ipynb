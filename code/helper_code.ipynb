{
 "cells": [
  {
   "cell_type": "markdown",
   "id": "5dac18ac-df1e-4f7f-ae15-75f17771c924",
   "metadata": {},
   "source": [
    "## Imports"
   ]
  },
  {
   "cell_type": "code",
   "execution_count": 1,
   "id": "793c5249-4f3e-41ee-86f2-af947a7bc62a",
   "metadata": {},
   "outputs": [],
   "source": [
    "from PIL import Image, ImageOps\n",
    "import glob\n",
    "import os"
   ]
  },
  {
   "cell_type": "markdown",
   "id": "38d86be9-391f-4e79-a82f-450ed2272560",
   "metadata": {},
   "source": [
    "# Image Merge"
   ]
  },
  {
   "cell_type": "markdown",
   "id": "124618c6-ff87-4783-abc8-204a1c093138",
   "metadata": {},
   "source": [
    "The tutorial for pix2pix has the input images side by side with the output images. Writing a for loop to merge my seperate images to play nicely with the tutorial's code."
   ]
  },
  {
   "cell_type": "code",
   "execution_count": 2,
   "id": "fac80451-544c-4623-8e2f-aad89219f81c",
   "metadata": {},
   "outputs": [],
   "source": [
    "layout = '../datasets/layout/'\n",
    "footprint = '../datasets/footprint/'\n",
    "footprint_doors = '../datasets/footprint_doors/'\n",
    "fake = '../datasets/fake_footprints/'"
   ]
  },
  {
   "cell_type": "markdown",
   "id": "181abf9c-c2e9-4689-9300-fdc229c920d6",
   "metadata": {},
   "source": [
    "Important file paths"
   ]
  },
  {
   "cell_type": "code",
   "execution_count": null,
   "id": "63cf3bb1-d546-40c7-b5c7-804654629368",
   "metadata": {},
   "outputs": [],
   "source": [
    "for file in os.listdir(layout):\n",
    "    image1 = Image.open(layout + file)\n",
    "    image2 = Image.open(footprint + file)\n",
    "    image1_size = image1.size\n",
    "    image2_size = image2.size\n",
    "    new_image = Image.new('RGBA',(2 * image1_size[0], image1_size[1]), (250,250,250))\n",
    "    new_image.paste(image1,(0,0))\n",
    "    new_image.paste(image2,(image1_size[0],0))\n",
    "    new_image.save(f'../datasets/merged/{file}',\"png\")"
   ]
  },
  {
   "cell_type": "markdown",
   "id": "b873f7a0-3082-4f8d-a806-fa66141b0632",
   "metadata": {},
   "source": [
    "Made first batch of 125 images as pngs. Learned the hard way that they have different layers than a jpg and is not compatible with neural nets made for jpgs. The pngs would only work with RGBA file type and refused to convert as a jpg. Will never make the same mistake again."
   ]
  },
  {
   "cell_type": "code",
   "execution_count": null,
   "id": "de7484a8-38a6-4a19-b80b-5ec011e57091",
   "metadata": {},
   "outputs": [],
   "source": [
    "for file in os.listdir(layout):\n",
    "    if int(file.replace(\".jpg\",\"\").replace(\".png\",\"\")) > 125:\n",
    "        image1 = Image.open(layout + file)\n",
    "        image2 = Image.open(footprint + file)\n",
    "        image1_size = image1.size\n",
    "        image2_size = image2.size\n",
    "        new_image = Image.new('RGB',(2 * image1_size[0], image1_size[1]), (250,250,250))\n",
    "        new_image.paste(image1,(0,0))\n",
    "        new_image.paste(image2,(image1_size[0],0))\n",
    "        new_image.save(f'../datasets/merged/{file}',\"jpeg\")"
   ]
  },
  {
   "cell_type": "markdown",
   "id": "f05360d3-f3bc-4248-a5c3-4729d9a8d85c",
   "metadata": {},
   "source": [
    "Code for the last 75 files. Ignores the first 125 and starts as jpgs and ends as jpgs."
   ]
  },
  {
   "cell_type": "code",
   "execution_count": null,
   "id": "a9251762-0fa5-43e1-b419-f99343fb298e",
   "metadata": {},
   "outputs": [],
   "source": [
    "for file in os.listdir(layout):\n",
    "    image1 = Image.open(layout + file)\n",
    "    image2 = Image.open(footprint_doors + file)\n",
    "    image1_size = image1.size\n",
    "    image2_size = image2.size\n",
    "    new_image = Image.new('RGB',(2 * image1_size[0], image1_size[1]), (250,250,250))\n",
    "    new_image.paste(image1,(0,0))\n",
    "    new_image.paste(image2,(image1_size[0],0))\n",
    "    new_image.save(f'../datasets/merged_doors/{file}',\"jpeg\")"
   ]
  },
  {
   "cell_type": "markdown",
   "id": "88dacadf-da48-46e4-82a4-0d6214873530",
   "metadata": {},
   "source": [
    "Code for the fifth model that required new input footprints that have exterior doors displayed"
   ]
  },
  {
   "cell_type": "code",
   "execution_count": null,
   "id": "252f3d8a-d084-4de7-946c-24bb421a805d",
   "metadata": {},
   "outputs": [],
   "source": [
    "for file in os.listdir(fake):\n",
    "    image1 = Image.open(fake + file)\n",
    "    image2 = Image.open(fake + file)\n",
    "    image1_size = image1.size\n",
    "    image2_size = image2.size\n",
    "    new_image = Image.new('RGB',(2 * image1_size[0], image1_size[1]), (250,250,250))\n",
    "    new_image.paste(image1,(0,0))\n",
    "    new_image.paste(image2,(image1_size[0],0))\n",
    "    new_image.save(f'../datasets/merged_doors/{file}',\"jpeg\")"
   ]
  },
  {
   "cell_type": "markdown",
   "id": "45a4cfa1-e0a7-4968-a595-425f716cc881",
   "metadata": {},
   "source": [
    "Code for the sixth model's testing data. Just created a copy of the input data for the output as it will not be referenced anywhere. Will hurt disc/gen loss metrics but not the most important metric"
   ]
  },
  {
   "cell_type": "markdown",
   "id": "07933253-1877-4689-b2ac-9010da34eb34",
   "metadata": {},
   "source": [
    "# Animated GIF Code"
   ]
  },
  {
   "cell_type": "code",
   "execution_count": null,
   "id": "553f121a-f352-4ccd-a477-5a72934c3564",
   "metadata": {},
   "outputs": [],
   "source": [
    "for folder in os.listdir('../datasets/fake_tests/prog/'):\n",
    "    fp_in = f\"../datasets/fake_tests/prog/{folder}/*.jpg\"\n",
    "    fp_out = f\"../datasets/fake_tests/gifs/{folder}.gif\"\n",
    "    img, *imgs = [Image.open(f) for f in sorted(glob.glob(fp_in))]\n",
    "    img.save(fp=fp_out, format='GIF', append_images=imgs,\n",
    "         save_all=True, duration=240, loop=0)"
   ]
  },
  {
   "cell_type": "markdown",
   "id": "03c5244f-8c8b-4f25-962d-e73a118a6456",
   "metadata": {},
   "source": [
    "Grabs all images from each GAN step of each testing dataset and displays them in order"
   ]
  }
 ],
 "metadata": {
  "kernelspec": {
   "display_name": "Python [conda env:dsi-111]",
   "language": "python",
   "name": "conda-env-dsi-111-py"
  },
  "language_info": {
   "codemirror_mode": {
    "name": "ipython",
    "version": 3
   },
   "file_extension": ".py",
   "mimetype": "text/x-python",
   "name": "python",
   "nbconvert_exporter": "python",
   "pygments_lexer": "ipython3",
   "version": "3.8.8"
  }
 },
 "nbformat": 4,
 "nbformat_minor": 5
}
